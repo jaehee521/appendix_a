{
 "cells": [
  {
   "cell_type": "code",
   "execution_count": 1,
   "metadata": {},
   "outputs": [
    {
     "name": "stdout",
     "output_type": "stream",
     "text": [
      "Hello\n"
     ]
    }
   ],
   "source": [
    "# 1. 출력하기 01\n",
    "\n",
    "print(\"Hello\")"
   ]
  },
  {
   "cell_type": "code",
   "execution_count": 110,
   "metadata": {},
   "outputs": [
    {
     "name": "stdout",
     "output_type": "stream",
     "text": [
      "Hello World\n"
     ]
    }
   ],
   "source": [
    "# 2. 출력하기 02\n",
    "\n",
    "print(\"Hello World\")"
   ]
  },
  {
   "cell_type": "code",
   "execution_count": 111,
   "metadata": {},
   "outputs": [
    {
     "name": "stdout",
     "output_type": "stream",
     "text": [
      "Hello\n",
      "World\n"
     ]
    }
   ],
   "source": [
    "# 3. 출력하기 03\n",
    "\n",
    "print(\"Hello\\nWorld\")"
   ]
  },
  {
   "cell_type": "code",
   "execution_count": 112,
   "metadata": {},
   "outputs": [
    {
     "name": "stdout",
     "output_type": "stream",
     "text": [
      "'Hello'\n"
     ]
    }
   ],
   "source": [
    "# 4. 출력하기 04\n",
    "\n",
    "print(\"'\"\"Hello\"\"'\")"
   ]
  },
  {
   "cell_type": "code",
   "execution_count": 113,
   "metadata": {},
   "outputs": [
    {
     "name": "stdout",
     "output_type": "stream",
     "text": [
      "\"Hello World\"\n"
     ]
    }
   ],
   "source": [
    "# 5. 출력하기 05\n",
    "\n",
    "print('''\"Hello World\"''')"
   ]
  },
  {
   "cell_type": "code",
   "execution_count": 114,
   "metadata": {},
   "outputs": [
    {
     "name": "stdout",
     "output_type": "stream",
     "text": [
      "\"!@#$%^&*()\"\n"
     ]
    }
   ],
   "source": [
    "# 6. 출력하기 06\n",
    "\n",
    "print('''\"!@#$%^&*()\"''')"
   ]
  },
  {
   "cell_type": "code",
   "execution_count": 115,
   "metadata": {},
   "outputs": [
    {
     "name": "stdout",
     "output_type": "stream",
     "text": [
      "\"C:\\Download\\'hello'.py\"\n"
     ]
    }
   ],
   "source": [
    "# 7. 출력하기 07\n",
    "\n",
    "print('''\"C:\\\\Download\\\\'hello'.py\"''')"
   ]
  },
  {
   "cell_type": "code",
   "execution_count": 116,
   "metadata": {},
   "outputs": [
    {
     "name": "stdout",
     "output_type": "stream",
     "text": [
      "print\"(\"Hello\\nWorld\")\n"
     ]
    }
   ],
   "source": [
    "# 8. 출력하기 08\n",
    "\n",
    "print('''print\"(\"Hello\\\\nWorld\")''')"
   ]
  },
  {
   "cell_type": "code",
   "execution_count": 3,
   "metadata": {},
   "outputs": [
    {
     "name": "stdout",
     "output_type": "stream",
     "text": [
      "a\n"
     ]
    }
   ],
   "source": [
    "# 9. 문자 1개 입력받아 그대로 출력하기\n",
    "\n",
    "a = input()\n",
    "print(a)"
   ]
  },
  {
   "cell_type": "code",
   "execution_count": 4,
   "metadata": {},
   "outputs": [
    {
     "name": "stdout",
     "output_type": "stream",
     "text": [
      "15\n"
     ]
    }
   ],
   "source": [
    "# 10. 정수 1개 입력받아 int로 변환하여 출력하기\n",
    "\n",
    "b = int(input())\n",
    "print(b)"
   ]
  },
  {
   "cell_type": "code",
   "execution_count": 7,
   "metadata": {},
   "outputs": [
    {
     "name": "stdout",
     "output_type": "stream",
     "text": [
      "10.1\n"
     ]
    }
   ],
   "source": [
    "# 11. 실수 1개 입력받아 변환하여 출력하기\n",
    "\n",
    "c = float(input())\n",
    "print(c)"
   ]
  },
  {
   "cell_type": "code",
   "execution_count": 9,
   "metadata": {},
   "outputs": [
    {
     "name": "stdout",
     "output_type": "stream",
     "text": [
      "3\n",
      "4\n"
     ]
    }
   ],
   "source": [
    "# 12. 정수 2개 입력받아 그대로 출력하기기\n",
    "\n",
    "d = int(input())\n",
    "e = int(input())\n",
    "\n",
    "print(d)\n",
    "print(e)"
   ]
  },
  {
   "cell_type": "code",
   "execution_count": 19,
   "metadata": {},
   "outputs": [
    {
     "name": "stdout",
     "output_type": "stream",
     "text": [
      "k\n",
      "h\n"
     ]
    }
   ],
   "source": [
    "# 13. 문자 2개 입력받아 순서 바꿔 출력하기\n",
    "\n",
    "f = input()\n",
    "g = input()\n",
    "\n",
    "print(g)\n",
    "print(f)"
   ]
  },
  {
   "cell_type": "code",
   "execution_count": 13,
   "metadata": {},
   "outputs": [
    {
     "name": "stdout",
     "output_type": "stream",
     "text": [
      "0.1\n",
      "0.1\n",
      "0.1\n"
     ]
    }
   ],
   "source": [
    "# 14. 실수 1개 입력받아 3번 출력하기1-1\n",
    "\n",
    "h = float(input())\n",
    "\n",
    "print(h)\n",
    "print(h)\n",
    "print(h)"
   ]
  },
  {
   "cell_type": "code",
   "execution_count": 29,
   "metadata": {},
   "outputs": [
    {
     "name": "stdout",
     "output_type": "stream",
     "text": [
      "3.0\n",
      "3.0\n",
      "3.0\n"
     ]
    }
   ],
   "source": [
    "# 14. 실수 1개 입력받아 3번 출력하기1-2\n",
    "\n",
    "h = float(input())\n",
    "\n",
    "for i in range(1, 3+1, 1):\n",
    "    print(h)"
   ]
  },
  {
   "cell_type": "code",
   "execution_count": 32,
   "metadata": {},
   "outputs": [
    {
     "name": "stdout",
     "output_type": "stream",
     "text": [
      "4\n",
      "5\n"
     ]
    }
   ],
   "source": [
    "# 15. 정수 2개 입력받아 그대로 출력하기2\n",
    "\n",
    "a , b = input().split()\n",
    "a = int(a)\n",
    "b = int(b)\n",
    "\n",
    "print(a)\n",
    "print(b)"
   ]
  },
  {
   "cell_type": "code",
   "execution_count": 34,
   "metadata": {},
   "outputs": [
    {
     "name": "stdout",
     "output_type": "stream",
     "text": [
      "b a\n"
     ]
    }
   ],
   "source": [
    "# 16. 문자 2개 입력받아 순서 바꿔 출력하기2\n",
    "\n",
    "c1, c2 = input().split()\n",
    "\n",
    "print(c2, c1)"
   ]
  },
  {
   "cell_type": "code",
   "execution_count": 36,
   "metadata": {},
   "outputs": [
    {
     "name": "stdout",
     "output_type": "stream",
     "text": [
      "cc cc cc\n"
     ]
    }
   ],
   "source": [
    "# 17. 문장 1개 입력받아 3번 출력하기-1\n",
    "\n",
    "s = input()\n",
    "print(s, s, s)"
   ]
  },
  {
   "cell_type": "code",
   "execution_count": 44,
   "metadata": {},
   "outputs": [
    {
     "name": "stdout",
     "output_type": "stream",
     "text": [
      "g\n",
      "g\n",
      "g\n"
     ]
    }
   ],
   "source": [
    "# 17. 문장 1개 입력받아 3번 출력하기-2\n",
    "\n",
    "s = input()\n",
    "\n",
    "for i in range(1, 3+1, 1):\n",
    "    print(s)"
   ]
  },
  {
   "cell_type": "code",
   "execution_count": 47,
   "metadata": {},
   "outputs": [
    {
     "name": "stdout",
     "output_type": "stream",
     "text": [
      "3:13\n"
     ]
    }
   ],
   "source": [
    "# 18. 시간 입력받아 그대로 출력하기\n",
    "\n",
    "a, b = input().split(\":\")\n",
    "\n",
    "print(a, b, sep =\":\")"
   ]
  },
  {
   "cell_type": "code",
   "execution_count": 48,
   "metadata": {},
   "outputs": [
    {
     "name": "stdout",
     "output_type": "stream",
     "text": [
      "23-05-2022\n"
     ]
    }
   ],
   "source": [
    "# 19. 연월일 입력받아 순서 바꿔 출력하기\n",
    "\n",
    "y, m, d = input().split(\".\")\n",
    "\n",
    "print(d, m, y, sep=\"-\")"
   ]
  },
  {
   "cell_type": "code",
   "execution_count": 94,
   "metadata": {},
   "outputs": [
    {
     "name": "stdout",
     "output_type": "stream",
     "text": [
      "9933\n"
     ]
    }
   ],
   "source": [
    "# 20. 주민번호 입력받아 형태 바꿔 출력하기\n",
    "\n",
    "c1, c2 = input().split(\"-\")\n",
    "\n",
    "print(c1, c2, sep=\"\")"
   ]
  },
  {
   "cell_type": "code",
   "execution_count": 97,
   "metadata": {},
   "outputs": [
    {
     "name": "stdout",
     "output_type": "stream",
     "text": [
      "H\n",
      "e\n",
      "l\n",
      "l\n",
      "o\n"
     ]
    }
   ],
   "source": [
    "# 21. 단어 1개 입력받아 나누어 출력하기-1\n",
    "\n",
    "s = input()\n",
    "\n",
    "print(s[0]) \n",
    "print(s[1])\n",
    "print(s[2])\n",
    "print(s[3])\n",
    "print(s[4])"
   ]
  },
  {
   "cell_type": "code",
   "execution_count": 100,
   "metadata": {},
   "outputs": [
    {
     "name": "stdout",
     "output_type": "stream",
     "text": [
      "H\n",
      "e\n",
      "l\n",
      "l\n",
      "o\n"
     ]
    }
   ],
   "source": [
    "# 21. 단어 1개 입력받아 나누어 출력하기-2\n",
    "\n",
    "s = input()\n",
    "\n",
    "for i in range(0, 4+1, 1):\n",
    "    print(s[i])"
   ]
  },
  {
   "cell_type": "code",
   "execution_count": 118,
   "metadata": {},
   "outputs": [
    {
     "name": "stdout",
     "output_type": "stream",
     "text": [
      "93 05 21\n"
     ]
    }
   ],
   "source": [
    "# 22. 연월일 입력받아 나누어 출력하기\n",
    "\n",
    "s = input()\n",
    "\n",
    "print(s[0:2], s[2:4], s[4:6], sep=\" \")"
   ]
  },
  {
   "cell_type": "code",
   "execution_count": 103,
   "metadata": {},
   "outputs": [
    {
     "name": "stdout",
     "output_type": "stream",
     "text": [
      "23\n"
     ]
    }
   ],
   "source": [
    "# 23. 시분초 입력받아 분만 출력하기-1\n",
    "\n",
    "s = input()\n",
    "\n",
    "print(s[3:5])"
   ]
  },
  {
   "cell_type": "code",
   "execution_count": 104,
   "metadata": {},
   "outputs": [
    {
     "name": "stdout",
     "output_type": "stream",
     "text": [
      "23\n"
     ]
    }
   ],
   "source": [
    "# 23. 시분초 입력받아 분만 출력하기-2\n",
    "\n",
    "s = input().split(\":\")\n",
    "\n",
    "print(s[1])"
   ]
  },
  {
   "cell_type": "code",
   "execution_count": 105,
   "metadata": {},
   "outputs": [
    {
     "name": "stdout",
     "output_type": "stream",
     "text": [
      "HelloWorld\n"
     ]
    }
   ],
   "source": [
    "# 24. 단어 2개 입력받아 이어 붙이기\n",
    "\n",
    "w1, w2 = input().split()\n",
    "s = w1 + w2\n",
    "\n",
    "print(s)"
   ]
  },
  {
   "cell_type": "code",
   "execution_count": 109,
   "metadata": {},
   "outputs": [
    {
     "name": "stdout",
     "output_type": "stream",
     "text": [
      "0\n"
     ]
    }
   ],
   "source": [
    "# 25. 정수 2개 입력받아 합 계산하기\n",
    "\n",
    "a, b = input().split(\" \")\n",
    "c = int(a) + int(b)\n",
    "\n",
    "print(c)"
   ]
  },
  {
   "cell_type": "code",
   "execution_count": 2,
   "metadata": {},
   "outputs": [
    {
     "name": "stdout",
     "output_type": "stream",
     "text": [
      "1.0\n"
     ]
    }
   ],
   "source": [
    "# 26. 실수 2개 입력받아 합 계산하기\n",
    "\n",
    "a = float(input())\n",
    "b = float(input())\n",
    "\n",
    "print(a + b)"
   ]
  },
  {
   "cell_type": "code",
   "execution_count": 5,
   "metadata": {},
   "outputs": [
    {
     "name": "stdout",
     "output_type": "stream",
     "text": [
      "ff\n"
     ]
    }
   ],
   "source": [
    "# 27. 10진 정수 입력받아 16진수로 출력하기\n",
    "\n",
    "a = int(input())\n",
    "\n",
    "print('%x' %a)"
   ]
  },
  {
   "cell_type": "code",
   "execution_count": 6,
   "metadata": {},
   "outputs": [
    {
     "name": "stdout",
     "output_type": "stream",
     "text": [
      "FF\n"
     ]
    }
   ],
   "source": [
    "# 28. 10진 정수 입력받아 16진수로 출력하기2\n",
    "\n",
    "a = int(input())\n",
    "\n",
    "print('%X' %a)"
   ]
  },
  {
   "cell_type": "code",
   "execution_count": 8,
   "metadata": {},
   "outputs": [
    {
     "name": "stdout",
     "output_type": "stream",
     "text": [
      "17\n"
     ]
    }
   ],
   "source": [
    "# 29. 16 정수 입력받아 8진수로 출력하기\n",
    "\n",
    "a = input()\n",
    "a = int(a, 16)\n",
    "\n",
    "print('%o' %a)"
   ]
  },
  {
   "cell_type": "code",
   "execution_count": 9,
   "metadata": {},
   "outputs": [
    {
     "name": "stdout",
     "output_type": "stream",
     "text": [
      "65\n"
     ]
    }
   ],
   "source": [
    "# 30. 영문자 1개 입력받아 10진수로 변환하기\n",
    "\n",
    "n = ord(input())    # ord() 문자 -> 정수값 형태로 변환\n",
    "\n",
    "print(n)"
   ]
  },
  {
   "cell_type": "code",
   "execution_count": 12,
   "metadata": {},
   "outputs": [
    {
     "name": "stdout",
     "output_type": "stream",
     "text": [
      "A\n"
     ]
    }
   ],
   "source": [
    "# 31. 정수 입력받아 유니코드 문자로 설명하기\n",
    "\n",
    "n = int(input())\n",
    "\n",
    "print(chr(n))    # chr() 정수값 -> 문자 형태로 형변환"
   ]
  },
  {
   "cell_type": "code",
   "execution_count": 14,
   "metadata": {},
   "outputs": [
    {
     "name": "stdout",
     "output_type": "stream",
     "text": [
      "0\n"
     ]
    }
   ],
   "source": [
    "# 32. 정수 1개 입력받아 부호 바꾸기\n",
    "\n",
    "n = int(input())\n",
    "\n",
    "print(-n)"
   ]
  },
  {
   "cell_type": "code",
   "execution_count": 21,
   "metadata": {},
   "outputs": [
    {
     "name": "stdout",
     "output_type": "stream",
     "text": [
      "b\n"
     ]
    }
   ],
   "source": [
    "# 33. 문자 1개 입력받아 다음 문자 출력하기\n",
    "\n",
    "n = ord(input())\n",
    "\n",
    "print(chr(n+1))\n"
   ]
  },
  {
   "cell_type": "code",
   "execution_count": 27,
   "metadata": {},
   "outputs": [
    {
     "name": "stdout",
     "output_type": "stream",
     "text": [
      "246\n"
     ]
    }
   ],
   "source": [
    "# 34. 정수 2개 입력받아 차 계산하기\n",
    "\n",
    "a, b = input().split(\" \")\n",
    "c = int(a) - int(b)\n",
    "\n",
    "print(c)"
   ]
  },
  {
   "cell_type": "code",
   "execution_count": 28,
   "metadata": {},
   "outputs": [
    {
     "name": "stdout",
     "output_type": "stream",
     "text": [
      "1.0\n"
     ]
    }
   ],
   "source": [
    "# 35. 실수 2개 입력받아 곱 계산하기\n",
    "\n",
    "f1, f2 = input().split(\" \")\n",
    "m = float(f1) * float(f2)\n",
    "\n",
    "print(m)"
   ]
  },
  {
   "cell_type": "code",
   "execution_count": 29,
   "metadata": {},
   "outputs": [
    {
     "name": "stdout",
     "output_type": "stream",
     "text": [
      "hellohellohello\n"
     ]
    }
   ],
   "source": [
    "# 36. 단어 여러 번 출력하기\n",
    "\n",
    "w, n = input().split(\" \")\n",
    "\n",
    "print(w * int(n)) "
   ]
  },
  {
   "cell_type": "code",
   "execution_count": 30,
   "metadata": {},
   "outputs": [
    {
     "name": "stdout",
     "output_type": "stream",
     "text": [
      "hello pythonhello pythonhello python\n"
     ]
    }
   ],
   "source": [
    "# 37. 문장 여러 번 출력하기\n",
    "\n",
    "n = input()\n",
    "s = input()\n",
    "\n",
    "print(int(n) * s)"
   ]
  },
  {
   "cell_type": "code",
   "execution_count": 31,
   "metadata": {},
   "outputs": [
    {
     "name": "stdout",
     "output_type": "stream",
     "text": [
      "1024\n"
     ]
    }
   ],
   "source": [
    "# 38. 정수 2개 입력받아 거듭제곱 계산하기\n",
    "\n",
    "a, b = input().split(\" \")\n",
    "c = int(a) ** int(b)\n",
    "\n",
    "print(c)"
   ]
  },
  {
   "cell_type": "code",
   "execution_count": 35,
   "metadata": {},
   "outputs": [
    {
     "name": "stdout",
     "output_type": "stream",
     "text": [
      "16.0\n"
     ]
    }
   ],
   "source": [
    "# 39. 실수 2개 입력받아 거듭제곱 계산하기\n",
    "\n",
    "f1, f2 = input().split(\" \")\n",
    "ff = float(f1) ** float(f2)\n",
    "\n",
    "print(ff)"
   ]
  },
  {
   "cell_type": "code",
   "execution_count": 36,
   "metadata": {},
   "outputs": [
    {
     "name": "stdout",
     "output_type": "stream",
     "text": [
      "3\n"
     ]
    }
   ],
   "source": [
    "# 40. 정수 2개 입력받아 나눈 몫 계산하기\n",
    "\n",
    "a, b = input().split(\" \")\n",
    "c = int(a) // int(b)\n",
    "\n",
    "print(c)"
   ]
  },
  {
   "cell_type": "code",
   "execution_count": 37,
   "metadata": {},
   "outputs": [
    {
     "name": "stdout",
     "output_type": "stream",
     "text": [
      "3\n"
     ]
    }
   ],
   "source": [
    "# 42. 정수 2개 입력받아 나눈 나머지 계산하기\n",
    "\n",
    "a, b = input().split(\" \")\n",
    "c = int(a) % int(b)\n",
    "\n",
    "print(c)"
   ]
  },
  {
   "cell_type": "code",
   "execution_count": 48,
   "metadata": {},
   "outputs": [
    {
     "name": "stdout",
     "output_type": "stream",
     "text": [
      "3.333\n"
     ]
    }
   ],
   "source": [
    "# 43. 실수 2개 입력받아 나눈 결과 계산하기-1\n",
    "\n",
    "f1, f2 = input().split(\" \")\n",
    "c = float(f1) / float(f2)\n",
    "\n",
    "print(round(c, 3))"
   ]
  },
  {
   "cell_type": "code",
   "execution_count": 49,
   "metadata": {},
   "outputs": [
    {
     "name": "stdout",
     "output_type": "stream",
     "text": [
      "3.333\n"
     ]
    }
   ],
   "source": [
    "# 43. 실수 2개 입력받아 나눈 결과 계산하기-2\n",
    "\n",
    "f1, f2 = input().split(\" \")\n",
    "c = float(f1) / float(f2)\n",
    "\n",
    "print(format(c, \".3f\"))"
   ]
  },
  {
   "cell_type": "code",
   "execution_count": 51,
   "metadata": {},
   "outputs": [
    {
     "name": "stdout",
     "output_type": "stream",
     "text": [
      "13\n",
      "7\n",
      "30\n",
      "3\n",
      "1\n",
      "3.33\n"
     ]
    }
   ],
   "source": [
    "# 44. 정수 2개 입력받아 자동 계산하기\n",
    "\n",
    "a, b = input().split(\" \")\n",
    "\n",
    "c1 = int(a) + int(b)\n",
    "c2 = int(a) - int(b)\n",
    "c3 = int(a) * int(b)\n",
    "c4 = int(a) // int(b)\n",
    "c5 = int(a) % int(b)\n",
    "c6 = int(a) / int(b)\n",
    "\n",
    "print(c1)\n",
    "print(c2)\n",
    "print(c3)\n",
    "print(c4)\n",
    "print(round(c5, 2))\n",
    "print(round(c6, 2))"
   ]
  },
  {
   "cell_type": "code",
   "execution_count": 66,
   "metadata": {},
   "outputs": [
    {
     "name": "stdout",
     "output_type": "stream",
     "text": [
      "6 2.0\n"
     ]
    }
   ],
   "source": [
    "# 45. 정수 3개 입력받아 합과 평균 출력하기\n",
    "\n",
    "a, b, c = input().split(\" \")\n",
    "\n",
    "sum = int(a) + int(b) + int(c)\n",
    "avg = sum / 3\n",
    "\n",
    "print(sum, round(avg, 2))"
   ]
  },
  {
   "cell_type": "code",
   "execution_count": 68,
   "metadata": {},
   "outputs": [
    {
     "name": "stdout",
     "output_type": "stream",
     "text": [
      "20\n",
      "5\n",
      "40\n",
      "2\n"
     ]
    }
   ],
   "source": [
    "# 46. 정수 1개 입력받아 2배 곱해 출력하기\n",
    "\n",
    "n = int(input())\n",
    "\n",
    "print(n << 1)    # 10을 2배 한 값인 20이 출력된다\n",
    "print(n >> 1)    # 10을 반으로 나눈 값인 5가 출력된다.\n",
    "print(n << 2)    # 10을 4배 한 값인 40이 출력된다.\n",
    "print(n >> 2)    # 10을 반으로 나눈 후 다시 반으로 나눈 값인 2가 출력된다 "
   ]
  },
  {
   "cell_type": "code",
   "execution_count": 75,
   "metadata": {},
   "outputs": [
    {
     "name": "stdout",
     "output_type": "stream",
     "text": [
      "16\n"
     ]
    }
   ],
   "source": [
    "# 47. 2의 거듭제곱 배로 곱해 출력하기\n",
    "\n",
    "a, b = input().split(\" \")\n",
    "\n",
    "print(int(a) << int(b))"
   ]
  },
  {
   "cell_type": "code",
   "execution_count": 76,
   "metadata": {},
   "outputs": [
    {
     "name": "stdout",
     "output_type": "stream",
     "text": [
      "True\n"
     ]
    }
   ],
   "source": [
    "# 48. 정수 2개 입력받아 비교하기1\n",
    "\n",
    "a, b = input().split(\" \")\n",
    "\n",
    "print(int(a) < int(b))"
   ]
  },
  {
   "cell_type": "code",
   "execution_count": 77,
   "metadata": {},
   "outputs": [
    {
     "name": "stdout",
     "output_type": "stream",
     "text": [
      "True\n"
     ]
    }
   ],
   "source": [
    "# 49. 정수 2개 입력받아 비교하기2\n",
    "\n",
    "a , b = input().split(\" \")\n",
    "\n",
    "print(int(a) == int(b))"
   ]
  },
  {
   "cell_type": "code",
   "execution_count": 79,
   "metadata": {},
   "outputs": [
    {
     "name": "stdout",
     "output_type": "stream",
     "text": [
      "False\n"
     ]
    }
   ],
   "source": [
    "# 50. 정수 2개 입력받아 비교하기3\n",
    "\n",
    "a, b = input().split(\" \")\n",
    "\n",
    "print(int(a) <= int(b))"
   ]
  },
  {
   "cell_type": "code",
   "execution_count": null,
   "metadata": {},
   "outputs": [],
   "source": [
    "# 51."
   ]
  }
 ],
 "metadata": {
  "interpreter": {
   "hash": "916dbcbb3f70747c44a77c7bcd40155683ae19c65e1c03b4aa3499c5328201f1"
  },
  "kernelspec": {
   "display_name": "Python 3.10.4 64-bit",
   "language": "python",
   "name": "python3"
  },
  "language_info": {
   "codemirror_mode": {
    "name": "ipython",
    "version": 3
   },
   "file_extension": ".py",
   "mimetype": "text/x-python",
   "name": "python",
   "nbconvert_exporter": "python",
   "pygments_lexer": "ipython3",
   "version": "3.10.4"
  },
  "orig_nbformat": 4
 },
 "nbformat": 4,
 "nbformat_minor": 2
}
